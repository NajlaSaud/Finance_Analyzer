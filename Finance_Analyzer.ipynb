{
 "cells": [
  {
   "cell_type": "code",
   "execution_count": 1,
   "id": "a15e8bae-5e88-403b-affa-02db530a0102",
   "metadata": {},
   "outputs": [],
   "source": [
    "import os\n",
    "os.environ['OPENAI_API_KEY'] = \"YOUR_API_KEY_HERE\""
   ]
  },
  {
   "cell_type": "code",
   "execution_count": 2,
   "id": "f90d3155-032a-44bd-81d3-5ab042296570",
   "metadata": {},
   "outputs": [],
   "source": [
    "import openai\n",
    "import os\n",
    "\n",
    "openai.api_key = os.environ.get('OPENAI_API_KEY')"
   ]
  },
  {
   "cell_type": "code",
   "execution_count": 3,
   "id": "cc22c57b-6221-479f-874a-95a5766cbe5d",
   "metadata": {},
   "outputs": [],
   "source": [
    "def get_completion(prompt, model=\"gpt-3.5-turbo\"):\n",
    "    messages = [{\"role\": \"user\", \"content\": prompt}]\n",
    "    response = openai.ChatCompletion.create(\n",
    "        model=model,\n",
    "        messages=messages,\n",
    "        temperature=0, # this is the degree of randomness of the model's output\n",
    "    )\n",
    "    return response.choices[0].message[\"content\"]"
   ]
  },
  {
   "cell_type": "code",
   "execution_count": 9,
   "id": "39e6ccee-ed4f-4e65-8890-670489606acf",
   "metadata": {},
   "outputs": [],
   "source": [
    "import pandas as pd\n",
    "data_file = pd.read_excel('finance_data.xlsx')"
   ]
  },
  {
   "cell_type": "code",
   "execution_count": 10,
   "id": "cd4f6a4b-3b69-42bc-91d0-5c3dead38531",
   "metadata": {},
   "outputs": [
    {
     "name": "stdout",
     "output_type": "stream",
     "text": [
      "The file contains data on income for each month of the year. The table has three columns: year, month, and income. The income values are provided for the months of January to December, with the corresponding year indicated in the first column. The income values are given in numerical format. The table has a total of 276 rows.\n"
     ]
    }
   ],
   "source": [
    "prompt = f\"\"\"\n",
    "Give me a summary for the file below:\n",
    "\n",
    "File: '''{data_file}'''\n",
    "\"\"\"\n",
    "response = get_completion(prompt)\n",
    "print(response)"
   ]
  },
  {
   "cell_type": "code",
   "execution_count": 11,
   "id": "20e44c7f-4b9c-46c8-b9f9-8feb149e5df4",
   "metadata": {},
   "outputs": [
    {
     "name": "stdout",
     "output_type": "stream",
     "text": [
      "To forecast the income for the previous quarters, we can use a time series forecasting method such as linear regression or exponential smoothing. However, since we don't have any historical data or trend information, we will assume that the income for each month in the previous quarters is the same as the income in the corresponding month of the previous year.\n",
      "\n",
      "Using this assumption, we can calculate the expected income for the previous quarters as follows:\n",
      "\n",
      "- First quarter 2022: 44361.625074\n",
      "- Second quarter 2022: 12106.134700\n",
      "- Third quarter 2022: 31767.138947\n",
      "- Fourth quarter 2022: 35704.493935\n",
      "- First quarter 2023: 38463.495879\n",
      "\n",
      "To predict the expected income for the second quarter 2023, we will assume that the income in the second quarter of 2023 will be the same as the income in the second quarter of 2022. Therefore, the expected income for the second quarter 2023 is:\n",
      "\n",
      "The expected income = 12106.134700\n"
     ]
    }
   ],
   "source": [
    "year = 2023\n",
    "quarter = 2\n",
    "prompt = f\"\"\"\n",
    "Based on the financial data in file below,\n",
    "What will be the income in the second quarter 2023.\n",
    "\n",
    "Forecast the provided data for the previuous quarters.\n",
    "Then, predict the expected income for the quarter: {quarter} in {year}.\n",
    "\n",
    "Format your answer as follow:\n",
    "The expected income = predicted_income_here\n",
    "\n",
    "File: '''{data_file}'''\n",
    "\"\"\"\n",
    "response = get_completion(prompt)\n",
    "print(response)"
   ]
  },
  {
   "cell_type": "code",
   "execution_count": null,
   "id": "a6a42ed2-a609-400a-a634-97efdcac0eb0",
   "metadata": {},
   "outputs": [],
   "source": []
  }
 ],
 "metadata": {
  "kernelspec": {
   "display_name": "Python 3 (ipykernel)",
   "language": "python",
   "name": "python3"
  },
  "language_info": {
   "codemirror_mode": {
    "name": "ipython",
    "version": 3
   },
   "file_extension": ".py",
   "mimetype": "text/x-python",
   "name": "python",
   "nbconvert_exporter": "python",
   "pygments_lexer": "ipython3",
   "version": "3.9.12"
  }
 },
 "nbformat": 4,
 "nbformat_minor": 5
}
